{
 "metadata": {
  "language_info": {
   "codemirror_mode": {
    "name": "ipython",
    "version": 3
   },
   "file_extension": ".py",
   "mimetype": "text/x-python",
   "name": "python",
   "nbconvert_exporter": "python",
   "pygments_lexer": "ipython3",
   "version": "3.8.3-final"
  },
  "orig_nbformat": 2,
  "kernelspec": {
   "name": "python_defaultSpec_1599829189417",
   "display_name": "Python 3.8.3 32-bit"
  }
 },
 "nbformat": 4,
 "nbformat_minor": 2,
 "cells": [
  {
   "cell_type": "code",
   "execution_count": 1,
   "metadata": {},
   "outputs": [],
   "source": [
    "import pandas as pd\n",
    "import numpy as np\n",
    "import matplotlib as plt"
   ]
  },
  {
   "cell_type": "code",
   "execution_count": 2,
   "metadata": {},
   "outputs": [],
   "source": [
    "netflix1 = pd.read_csv(\"netflix1.csv\")\n"
   ]
  },
  {
   "cell_type": "code",
   "execution_count": 11,
   "metadata": {},
   "outputs": [],
   "source": [
    "netflix2 = pd.read_csv(\"netflix2.csv\")\n",
    "netflix3 = pd.read_csv(\"netflix3.csv\")"
   ]
  },
  {
   "cell_type": "code",
   "execution_count": 12,
   "metadata": {},
   "outputs": [],
   "source": [
    "df1= pd.DataFrame(netflix1)\n",
    "df2= pd.DataFrame(netflix2)\n",
    "df3=pd.DataFrame(netflix3)"
   ]
  },
  {
   "cell_type": "code",
   "execution_count": 19,
   "metadata": {},
   "outputs": [],
   "source": [
    "## dataframeler eşit mi?"
   ]
  },
  {
   "cell_type": "code",
   "execution_count": 17,
   "metadata": {},
   "outputs": [
    {
     "output_type": "execute_result",
     "data": {
      "text/plain": "False"
     },
     "metadata": {},
     "execution_count": 17
    }
   ],
   "source": [
    "df1.equals(df2)    "
   ]
  },
  {
   "cell_type": "code",
   "execution_count": 18,
   "metadata": {},
   "outputs": [
    {
     "output_type": "execute_result",
     "data": {
      "text/plain": "False"
     },
     "metadata": {},
     "execution_count": 18
    }
   ],
   "source": [
    "df2.equals(df3)"
   ]
  },
  {
   "cell_type": "code",
   "execution_count": 24,
   "metadata": {},
   "outputs": [
    {
     "output_type": "execute_result",
     "data": {
      "text/plain": "        sov_no     tipi                                       baslik  \\\n0     81145628    Movie      Norm of the North: King Sized Adventure   \n1     80117401    Movie                   Jandino: Whatever it Takes   \n2     70234439  TV Show                           Transformers Prime   \n3     80058654  TV Show             Transformers: Robots in Disguise   \n4     80125979    Movie                                 #realityhigh   \n...        ...      ...                                          ...   \n6229  80000063  TV Show                                 Red vs. Blue   \n6230  70286564  TV Show                                        Maron   \n6231  80116008    Movie       Little Baby Bum: Nursery Rhyme Friends   \n6232  70281022  TV Show  A Young Doctor's Notebook and Other Stories   \n6233  70153404  TV Show                                      Friends   \n\n                      yonetmen  \\\n0     Richard Finn, Tim Maltby   \n1                          NaN   \n2                          NaN   \n3                          NaN   \n4             Fernando Lebrija   \n...                        ...   \n6229                       NaN   \n6230                       NaN   \n6231                       NaN   \n6232                       NaN   \n6233                       NaN   \n\n                                              oyuncular  \\\n0     Alan Marriott, Andrew Toth, Brian Dobson, Cole...   \n1                                      Jandino Asporaat   \n2     Peter Cullen, Sumalee Montano, Frank Welker, J...   \n3     Will Friedle, Darren Criss, Constance Zimmer, ...   \n4     Nesta Cooper, Kate Walsh, John Michael Higgins...   \n...                                                 ...   \n6229  Burnie Burns, Jason Saldaña, Gustavo Sorola, G...   \n6230  Marc Maron, Judd Hirsch, Josh Brener, Nora Zeh...   \n6231                                                NaN   \n6232  Daniel Radcliffe, Jon Hamm, Adam Godley, Chris...   \n6233  Jennifer Aniston, Courteney Cox, Lisa Kudrow, ...   \n\n                                          ulke     eklenme_tarihi  \\\n0     United States, India, South Korea, China  September 9, 2019   \n1                               United Kingdom  September 9, 2016   \n2                                United States  September 8, 2018   \n3                                United States  September 8, 2018   \n4                                United States  September 8, 2017   \n...                                        ...                ...   \n6229                             United States                NaN   \n6230                             United States                NaN   \n6231                                       NaN                NaN   \n6232                            United Kingdom                NaN   \n6233                             United States                NaN   \n\n      cikis_tarihi        sure  \\\n0             2019      90 min   \n1             2016      94 min   \n2             2013    1 Season   \n3             2016    1 Season   \n4             2017      99 min   \n...            ...         ...   \n6229          2015  13 Seasons   \n6230          2016   4 Seasons   \n6231          2016      60 min   \n6232          2013   2 Seasons   \n6233          2003  10 Seasons   \n\n                                               kategori  \\\n0                    Children & Family Movies, Comedies   \n1                                       Stand-Up Comedy   \n2                                              Kids' TV   \n3                                              Kids' TV   \n4                                              Comedies   \n...                                                 ...   \n6229  TV Action & Adventure, TV Comedies, TV Sci-Fi ...   \n6230                                        TV Comedies   \n6231                                             Movies   \n6232           British TV Shows, TV Comedies, TV Dramas   \n6233                     Classic & Cult TV, TV Comedies   \n\n                                               aciklama  \n0     Before planning an awesome wedding for his gra...  \n1     Jandino Asporaat riffs on the challenges of ra...  \n2     With the help of three human allies, the Autob...  \n3     When a prison ship crash unleashes hundreds of...  \n4     When nerdy high schooler Dani finally attracts...  \n...                                                 ...  \n6229  This parody of first-person shooter games, mil...  \n6230  Marc Maron stars as Marc Maron, who interviews...  \n6231  Nursery rhymes and original music for children...  \n6232  Set during the Russian Revolution, this comic ...  \n6233  This hit sitcom follows the merry misadventure...  \n\n[6234 rows x 11 columns]",
      "text/html": "<div>\n<style scoped>\n    .dataframe tbody tr th:only-of-type {\n        vertical-align: middle;\n    }\n\n    .dataframe tbody tr th {\n        vertical-align: top;\n    }\n\n    .dataframe thead th {\n        text-align: right;\n    }\n</style>\n<table border=\"1\" class=\"dataframe\">\n  <thead>\n    <tr style=\"text-align: right;\">\n      <th></th>\n      <th>sov_no</th>\n      <th>tipi</th>\n      <th>baslik</th>\n      <th>yonetmen</th>\n      <th>oyuncular</th>\n      <th>ulke</th>\n      <th>eklenme_tarihi</th>\n      <th>cikis_tarihi</th>\n      <th>sure</th>\n      <th>kategori</th>\n      <th>aciklama</th>\n    </tr>\n  </thead>\n  <tbody>\n    <tr>\n      <th>0</th>\n      <td>81145628</td>\n      <td>Movie</td>\n      <td>Norm of the North: King Sized Adventure</td>\n      <td>Richard Finn, Tim Maltby</td>\n      <td>Alan Marriott, Andrew Toth, Brian Dobson, Cole...</td>\n      <td>United States, India, South Korea, China</td>\n      <td>September 9, 2019</td>\n      <td>2019</td>\n      <td>90 min</td>\n      <td>Children &amp; Family Movies, Comedies</td>\n      <td>Before planning an awesome wedding for his gra...</td>\n    </tr>\n    <tr>\n      <th>1</th>\n      <td>80117401</td>\n      <td>Movie</td>\n      <td>Jandino: Whatever it Takes</td>\n      <td>NaN</td>\n      <td>Jandino Asporaat</td>\n      <td>United Kingdom</td>\n      <td>September 9, 2016</td>\n      <td>2016</td>\n      <td>94 min</td>\n      <td>Stand-Up Comedy</td>\n      <td>Jandino Asporaat riffs on the challenges of ra...</td>\n    </tr>\n    <tr>\n      <th>2</th>\n      <td>70234439</td>\n      <td>TV Show</td>\n      <td>Transformers Prime</td>\n      <td>NaN</td>\n      <td>Peter Cullen, Sumalee Montano, Frank Welker, J...</td>\n      <td>United States</td>\n      <td>September 8, 2018</td>\n      <td>2013</td>\n      <td>1 Season</td>\n      <td>Kids' TV</td>\n      <td>With the help of three human allies, the Autob...</td>\n    </tr>\n    <tr>\n      <th>3</th>\n      <td>80058654</td>\n      <td>TV Show</td>\n      <td>Transformers: Robots in Disguise</td>\n      <td>NaN</td>\n      <td>Will Friedle, Darren Criss, Constance Zimmer, ...</td>\n      <td>United States</td>\n      <td>September 8, 2018</td>\n      <td>2016</td>\n      <td>1 Season</td>\n      <td>Kids' TV</td>\n      <td>When a prison ship crash unleashes hundreds of...</td>\n    </tr>\n    <tr>\n      <th>4</th>\n      <td>80125979</td>\n      <td>Movie</td>\n      <td>#realityhigh</td>\n      <td>Fernando Lebrija</td>\n      <td>Nesta Cooper, Kate Walsh, John Michael Higgins...</td>\n      <td>United States</td>\n      <td>September 8, 2017</td>\n      <td>2017</td>\n      <td>99 min</td>\n      <td>Comedies</td>\n      <td>When nerdy high schooler Dani finally attracts...</td>\n    </tr>\n    <tr>\n      <th>...</th>\n      <td>...</td>\n      <td>...</td>\n      <td>...</td>\n      <td>...</td>\n      <td>...</td>\n      <td>...</td>\n      <td>...</td>\n      <td>...</td>\n      <td>...</td>\n      <td>...</td>\n      <td>...</td>\n    </tr>\n    <tr>\n      <th>6229</th>\n      <td>80000063</td>\n      <td>TV Show</td>\n      <td>Red vs. Blue</td>\n      <td>NaN</td>\n      <td>Burnie Burns, Jason Saldaña, Gustavo Sorola, G...</td>\n      <td>United States</td>\n      <td>NaN</td>\n      <td>2015</td>\n      <td>13 Seasons</td>\n      <td>TV Action &amp; Adventure, TV Comedies, TV Sci-Fi ...</td>\n      <td>This parody of first-person shooter games, mil...</td>\n    </tr>\n    <tr>\n      <th>6230</th>\n      <td>70286564</td>\n      <td>TV Show</td>\n      <td>Maron</td>\n      <td>NaN</td>\n      <td>Marc Maron, Judd Hirsch, Josh Brener, Nora Zeh...</td>\n      <td>United States</td>\n      <td>NaN</td>\n      <td>2016</td>\n      <td>4 Seasons</td>\n      <td>TV Comedies</td>\n      <td>Marc Maron stars as Marc Maron, who interviews...</td>\n    </tr>\n    <tr>\n      <th>6231</th>\n      <td>80116008</td>\n      <td>Movie</td>\n      <td>Little Baby Bum: Nursery Rhyme Friends</td>\n      <td>NaN</td>\n      <td>NaN</td>\n      <td>NaN</td>\n      <td>NaN</td>\n      <td>2016</td>\n      <td>60 min</td>\n      <td>Movies</td>\n      <td>Nursery rhymes and original music for children...</td>\n    </tr>\n    <tr>\n      <th>6232</th>\n      <td>70281022</td>\n      <td>TV Show</td>\n      <td>A Young Doctor's Notebook and Other Stories</td>\n      <td>NaN</td>\n      <td>Daniel Radcliffe, Jon Hamm, Adam Godley, Chris...</td>\n      <td>United Kingdom</td>\n      <td>NaN</td>\n      <td>2013</td>\n      <td>2 Seasons</td>\n      <td>British TV Shows, TV Comedies, TV Dramas</td>\n      <td>Set during the Russian Revolution, this comic ...</td>\n    </tr>\n    <tr>\n      <th>6233</th>\n      <td>70153404</td>\n      <td>TV Show</td>\n      <td>Friends</td>\n      <td>NaN</td>\n      <td>Jennifer Aniston, Courteney Cox, Lisa Kudrow, ...</td>\n      <td>United States</td>\n      <td>NaN</td>\n      <td>2003</td>\n      <td>10 Seasons</td>\n      <td>Classic &amp; Cult TV, TV Comedies</td>\n      <td>This hit sitcom follows the merry misadventure...</td>\n    </tr>\n  </tbody>\n</table>\n<p>6234 rows × 11 columns</p>\n</div>"
     },
     "metadata": {},
     "execution_count": 24
    }
   ],
   "source": [
    "df1"
   ]
  },
  {
   "cell_type": "code",
   "execution_count": 38,
   "metadata": {},
   "outputs": [
    {
     "output_type": "execute_result",
     "data": {
      "text/plain": "0       Alan Marriott, Andrew Toth, Brian Dobson, Cole...\n1                                        Jandino Asporaat\n2       Peter Cullen, Sumalee Montano, Frank Welker, J...\n3       Will Friedle, Darren Criss, Constance Zimmer, ...\n4       Nesta Cooper, Kate Walsh, John Michael Higgins...\n                              ...                        \n6229    Burnie Burns, Jason Saldaña, Gustavo Sorola, G...\n6230    Marc Maron, Judd Hirsch, Josh Brener, Nora Zeh...\n6231                                                  NaN\n6232    Daniel Radcliffe, Jon Hamm, Adam Godley, Chris...\n6233    Jennifer Aniston, Courteney Cox, Lisa Kudrow, ...\nName: oyuncular, Length: 6234, dtype: object"
     },
     "metadata": {},
     "execution_count": 38
    }
   ],
   "source": [
    "oyuncular = pd.Series(data=df1.oyuncular)\n",
    "oyuncular"
   ]
  },
  {
   "cell_type": "code",
   "execution_count": 41,
   "metadata": {},
   "outputs": [],
   "source": [
    "\n"
   ]
  },
  {
   "cell_type": "code",
   "execution_count": null,
   "metadata": {},
   "outputs": [],
   "source": []
  }
 ]
}